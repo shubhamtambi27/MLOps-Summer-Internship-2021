{
 "cells": [
  {
   "cell_type": "code",
   "execution_count": null,
   "metadata": {},
   "outputs": [],
   "source": [
    "import socket as s\n",
    "import cv2\n",
    "import pickle\n",
    "import struct\n",
    "\n",
    "\n",
    "server_s = s.socket(s.AF_INET,s.SOCK_STREAM)\n",
    "host_name  = s.gethostname()\n",
    "host_ip = s.gethostbyname(host_name)\n",
    "print('HOST IP:',host_ip)\n",
    "\n",
    "port = 1234\n",
    "s_address = ('192.168.56.1',port)\n",
    "print(\"Socket Created Successfully\")\n",
    "\n",
    "\n",
    "server_s.bind(s_address)\n",
    "print(\"Socket Bind Successfully\")\n",
    "\n",
    "\n",
    "\n",
    "server_s.listen(5)\n",
    "print(\"LISTENING AT:\",s_address)\n",
    "\n",
    "print(\"Socket Accept\")\n",
    "\n",
    "while True:\n",
    "    client_s,addr = server_s.accept()\n",
    "    print('GOT CONNECTION FROM:',addr)\n",
    "    if client_s:\n",
    "        cap = cv2.VideoCapture(0)\n",
    "        \n",
    "        while(cap.isOpened()):\n",
    "            img,frame = cap.read()\n",
    "            a = pickle.dumps(frame)\n",
    "            message = struct.pack(\"Q\",len(a))+a\n",
    "            client_s.sendall(message)\n",
    "            \n",
    "            cv2.imshow('TRANSMITTING VIDEO',frame)\n",
    "            if cv2.waitKey(10) == 13:\n",
    "                break\n",
    "client_s.close()\n",
    "cv2.destroyAllWindows"
   ]
  },
  {
   "cell_type": "code",
   "execution_count": null,
   "metadata": {},
   "outputs": [],
   "source": []
  }
 ],
 "metadata": {
  "kernelspec": {
   "display_name": "Python 3",
   "language": "python",
   "name": "python3"
  },
  "language_info": {
   "codemirror_mode": {
    "name": "ipython",
    "version": 3
   },
   "file_extension": ".py",
   "mimetype": "text/x-python",
   "name": "python",
   "nbconvert_exporter": "python",
   "pygments_lexer": "ipython3",
   "version": "3.8.3"
  }
 },
 "nbformat": 4,
 "nbformat_minor": 4
}
